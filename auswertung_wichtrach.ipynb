{
 "cells": [
  {
   "cell_type": "markdown",
   "metadata": {},
   "source": [
    "# Strassenlärm in Niederwichtrach\n",
    "Die Tamedia führte an ausgewählten Standorten Schallpegelmessungen durch. In diesem Notebook wird der Standort in Niederwichtrach ausgewertet. Zum Einsatz kam ein Schallpegelmesser des auf Lärmanalysen spezialisierten Unternehmens [Grolimund + Partner](https://www.gundp.ch/). "
   ]
  },
  {
   "cell_type": "markdown",
   "metadata": {
    "toc": true
   },
   "source": [
    "<h1>Inhaltsverzeichnis<span class=\"tocSkip\"></span></h1>\n",
    "<div class=\"toc\"><ul class=\"toc-item\"><li><span><a href=\"#Datenimport-und--aufbereitung\" data-toc-modified-id=\"Datenimport-und--aufbereitung-1\"><span class=\"toc-item-num\">1&nbsp;&nbsp;</span>Datenimport und -aufbereitung</a></span></li><li><span><a href=\"#Auswertungen\" data-toc-modified-id=\"Auswertungen-2\"><span class=\"toc-item-num\">2&nbsp;&nbsp;</span>Auswertungen</a></span><ul class=\"toc-item\"><li><span><a href=\"#Grundlegendes-zum-Datensatz\" data-toc-modified-id=\"Grundlegendes-zum-Datensatz-2.1\"><span class=\"toc-item-num\">2.1&nbsp;&nbsp;</span>Grundlegendes zum Datensatz</a></span></li><li><span><a href=\"#Auswertungen-Schallpegel\" data-toc-modified-id=\"Auswertungen-Schallpegel-2.2\"><span class=\"toc-item-num\">2.2&nbsp;&nbsp;</span>Auswertungen Schallpegel</a></span></li><li><span><a href=\"#Datenexporte\" data-toc-modified-id=\"Datenexporte-2.3\"><span class=\"toc-item-num\">2.3&nbsp;&nbsp;</span>Datenexporte</a></span></li><li><span><a href=\"#Anzahl-Fahrzeuge\" data-toc-modified-id=\"Anzahl-Fahrzeuge-2.4\"><span class=\"toc-item-num\">2.4&nbsp;&nbsp;</span>Anzahl Fahrzeuge</a></span></li><li><span><a href=\"#Auswertungen-zur-Anzahl-Fahrzeuge\" data-toc-modified-id=\"Auswertungen-zur-Anzahl-Fahrzeuge-2.5\"><span class=\"toc-item-num\">2.5&nbsp;&nbsp;</span>Auswertungen zur Anzahl Fahrzeuge</a></span></li></ul></li></ul></div>"
   ]
  },
  {
   "cell_type": "markdown",
   "metadata": {},
   "source": [
    "## Datenimport und -aufbereitung"
   ]
  },
  {
   "cell_type": "code",
   "execution_count": 93,
   "metadata": {},
   "outputs": [],
   "source": [
    "# Importieren der nötigen Bibliotheken. \n",
    "import pandas as pd\n",
    "from os import listdir\n",
    "import numpy as np\n",
    "from datetime import timedelta\n",
    "from tqdm import tqdm\n",
    "from detecta import detect_peaks\n",
    "import matplotlib.pyplot as plt\n",
    "%matplotlib inline"
   ]
  },
  {
   "cell_type": "code",
   "execution_count": 94,
   "metadata": {},
   "outputs": [],
   "source": [
    "# Importieren der Daten (Export von Grolimund + Partner). \n",
    "df = pd.read_csv('daten/EXPORT_A5941_LOGID_29_MPID_RAW', delimiter='\\t')\n",
    "df['datetime'] = pd.to_datetime(df['DATE(PST)'] + ' ' + df['TIME(PST)'])\n",
    "df = df[['LEQ Lochweg 2 [MP 29]', 'datetime']]\n",
    "df.set_index('datetime', inplace=True, drop=True)\n",
    "df.columns = ['schallpegel']\n",
    "\n",
    "# Werte, die vor oder während der Installation aufgezeichnet worden ist, werden ignoriert. \n",
    "df = df.loc['2020-08-09':]"
   ]
  },
  {
   "cell_type": "code",
   "execution_count": 95,
   "metadata": {},
   "outputs": [],
   "source": [
    "# Die nach dem Export erhobenen Daten werden hinzugefügt. \n",
    "neue_daten = ['LEQ [dB] -data-as-seriestocolumns-2020-09-25 21_07_16.csv', 'LEQ [dB] -data-as-seriestocolumns-2020-09-25 21_11_55.csv', 'LEQ [dB] -data-as-seriestocolumns-2020-09-25 21_46_16.csv', 'LEQ [dB] -data-as-seriestocolumns-2020-09-25 22_45_48.csv', 'LEQ [dB] -data-as-seriestocolumns-2020-09-27 17_40_03.csv', 'LEQ [dB] -data-as-seriestocolumns-2020-09-29 22_38_13.csv', 'LEQ [dB] -data-as-seriestocolumns-2020-10-12 21 10 05.csv', 'LEQ [dB] -data-as-seriestocolumns-2020-10-13 15 20 19.csv']\n",
    "\n",
    "for d in neue_daten: \n",
    "    df_temp = pd.read_csv('daten/' + d)\n",
    "    df_temp = df_temp[['Time', 'LEQ Lochweg 2 [MP 29]']]\n",
    "    df_temp.columns = ['datetime', 'schallpegel']\n",
    "    df_temp['datetime'] = pd.to_datetime(df_temp['datetime'])\n",
    "    df_temp.set_index('datetime', inplace=True)\n",
    "    df = df.append(df_temp)\n",
    "\n",
    "df = df.reset_index().drop_duplicates(subset=['datetime', 'schallpegel']).set_index('datetime')\n",
    "df = df.sort_index()\n",
    "\n",
    "# Der letzte Tag, der verzeichnet ist, ist nicht vollständig. Er wird ganz entfernt. \n",
    "df = df.loc[:str(df.index.max() - timedelta(days=1))[:-9]]"
   ]
  },
  {
   "cell_type": "code",
   "execution_count": 96,
   "metadata": {},
   "outputs": [],
   "source": [
    "# Gemäss den Tonaufnahmen an einem anderen Standort wurden ein paar der lautesten Ereignisse \n",
    "# durch Geräusche direkt vor dem Sensor sowie durch Stürme und Gewitter verursacht. \n",
    "# Die lautesten Autodurchfahrten, die zu hören waren, lagen bei 95 Dezibel. \n",
    "# Hier werden Werte über 100 Dezibel ausgefiltert.\n",
    "df = df[df['schallpegel'] < 100]"
   ]
  },
  {
   "cell_type": "code",
   "execution_count": 97,
   "metadata": {},
   "outputs": [
    {
     "name": "stdout",
     "output_type": "stream",
     "text": [
      "Länge des Original-Datensatzes 5609710\n",
      "384 Messungen werden entfernt\n",
      "Länge des neuen Datensatzes 5609327\n"
     ]
    }
   ],
   "source": [
    "# Bei Stürmen, Gewittern und anderem sehr lautem, stetigem Umgebungslärm sind die Messwerte nicht brauchbar. \n",
    "# Deshalb werden Werte nicht berücksichtigt, wenn der Schallpegel innert 5 Minuten nie unter 50dB sinkt.\n",
    "print('Länge des Original-Datensatzes', len(df))\n",
    "df_temp = df.resample('5min').min()\n",
    "df_temp = df_temp[df_temp['schallpegel'] > 50]\n",
    "df_temp.resample('s').ffill()\n",
    "print(len(df_temp), 'Messungen werden entfernt')\n",
    "\n",
    "df = df[~df.index.isin(df_temp.index)].dropna()\n",
    "print('Länge des neuen Datensatzes', len(df))"
   ]
  },
  {
   "cell_type": "code",
   "execution_count": 98,
   "metadata": {},
   "outputs": [],
   "source": [
    "# Die logarithmischen Dezibel müssen für Berechnungen ins lineare Leistungsverhältnis umgerechnet werden.  \n",
    "df['leistungsverhältnis'] = 10 ** (df['schallpegel'] / 10)"
   ]
  },
  {
   "cell_type": "code",
   "execution_count": 99,
   "metadata": {},
   "outputs": [],
   "source": [
    "# Funktion zum Umrechnen des lineraren Liestungsverhältnis' in Dezibel. \n",
    "def lin2log(wert):\n",
    "    return np.log10(wert) * 10"
   ]
  },
  {
   "cell_type": "markdown",
   "metadata": {},
   "source": [
    "## Auswertungen"
   ]
  },
  {
   "cell_type": "markdown",
   "metadata": {},
   "source": [
    "### Grundlegendes zum Datensatz"
   ]
  },
  {
   "cell_type": "code",
   "execution_count": 100,
   "metadata": {},
   "outputs": [
    {
     "data": {
      "text/plain": [
       "Timestamp('2020-08-09 00:14:14')"
      ]
     },
     "execution_count": 100,
     "metadata": {},
     "output_type": "execute_result"
    }
   ],
   "source": [
    "# Wann startete die Aufzeichnung? \n",
    "df.index.min()"
   ]
  },
  {
   "cell_type": "code",
   "execution_count": 101,
   "metadata": {},
   "outputs": [
    {
     "data": {
      "text/plain": [
       "Timestamp('2020-10-12 23:59:59')"
      ]
     },
     "execution_count": 101,
     "metadata": {},
     "output_type": "execute_result"
    }
   ],
   "source": [
    "# Bis wann dauert die Aufzeichnung?\n",
    "df.index.max()"
   ]
  },
  {
   "cell_type": "code",
   "execution_count": 102,
   "metadata": {},
   "outputs": [
    {
     "data": {
      "text/plain": [
       "Timedelta('64 days 23:45:45')"
      ]
     },
     "execution_count": 102,
     "metadata": {},
     "output_type": "execute_result"
    }
   ],
   "source": [
    "# Wie viele Tage dauerte die Aufzeichnung?\n",
    "df.index.max() - df.index.min()"
   ]
  },
  {
   "cell_type": "code",
   "execution_count": 103,
   "metadata": {},
   "outputs": [
    {
     "data": {
      "text/plain": [
       "9.142857142857142"
      ]
     },
     "execution_count": 103,
     "metadata": {},
     "output_type": "execute_result"
    }
   ],
   "source": [
    "# Wie viele Wochen dauerte die Aufzeichnung?\n",
    "(df.index.max() - df.index.min()).days / 7"
   ]
  },
  {
   "cell_type": "code",
   "execution_count": 104,
   "metadata": {},
   "outputs": [
    {
     "data": {
      "text/plain": [
       "5609327"
      ]
     },
     "execution_count": 104,
     "metadata": {},
     "output_type": "execute_result"
    }
   ],
   "source": [
    "# Wie viele Messungen sind vorhanden? \n",
    "len(df)"
   ]
  },
  {
   "cell_type": "code",
   "execution_count": 105,
   "metadata": {},
   "outputs": [
    {
     "data": {
      "text/html": [
       "<div>\n",
       "<style scoped>\n",
       "    .dataframe tbody tr th:only-of-type {\n",
       "        vertical-align: middle;\n",
       "    }\n",
       "\n",
       "    .dataframe tbody tr th {\n",
       "        vertical-align: top;\n",
       "    }\n",
       "\n",
       "    .dataframe thead th {\n",
       "        text-align: right;\n",
       "    }\n",
       "</style>\n",
       "<table border=\"1\" class=\"dataframe\">\n",
       "  <thead>\n",
       "    <tr style=\"text-align: right;\">\n",
       "      <th></th>\n",
       "      <th>schallpegel</th>\n",
       "    </tr>\n",
       "    <tr>\n",
       "      <th>datetime</th>\n",
       "      <th></th>\n",
       "    </tr>\n",
       "  </thead>\n",
       "  <tbody>\n",
       "    <tr>\n",
       "      <th>2020-08-09</th>\n",
       "      <td>84579</td>\n",
       "    </tr>\n",
       "    <tr>\n",
       "      <th>2020-08-10</th>\n",
       "      <td>86332</td>\n",
       "    </tr>\n",
       "    <tr>\n",
       "      <th>2020-08-11</th>\n",
       "      <td>86323</td>\n",
       "    </tr>\n",
       "    <tr>\n",
       "      <th>2020-08-12</th>\n",
       "      <td>86326</td>\n",
       "    </tr>\n",
       "    <tr>\n",
       "      <th>2020-08-13</th>\n",
       "      <td>86319</td>\n",
       "    </tr>\n",
       "    <tr>\n",
       "      <th>...</th>\n",
       "      <td>...</td>\n",
       "    </tr>\n",
       "    <tr>\n",
       "      <th>2020-10-08</th>\n",
       "      <td>86332</td>\n",
       "    </tr>\n",
       "    <tr>\n",
       "      <th>2020-10-09</th>\n",
       "      <td>86326</td>\n",
       "    </tr>\n",
       "    <tr>\n",
       "      <th>2020-10-10</th>\n",
       "      <td>86314</td>\n",
       "    </tr>\n",
       "    <tr>\n",
       "      <th>2020-10-11</th>\n",
       "      <td>86328</td>\n",
       "    </tr>\n",
       "    <tr>\n",
       "      <th>2020-10-12</th>\n",
       "      <td>86327</td>\n",
       "    </tr>\n",
       "  </tbody>\n",
       "</table>\n",
       "<p>65 rows × 1 columns</p>\n",
       "</div>"
      ],
      "text/plain": [
       "            schallpegel\n",
       "datetime               \n",
       "2020-08-09        84579\n",
       "2020-08-10        86332\n",
       "2020-08-11        86323\n",
       "2020-08-12        86326\n",
       "2020-08-13        86319\n",
       "...                 ...\n",
       "2020-10-08        86332\n",
       "2020-10-09        86326\n",
       "2020-10-10        86314\n",
       "2020-10-11        86328\n",
       "2020-10-12        86327\n",
       "\n",
       "[65 rows x 1 columns]"
      ]
     },
     "execution_count": 105,
     "metadata": {},
     "output_type": "execute_result"
    }
   ],
   "source": [
    "# Wieviele Messungen sind pro Tag vorhanden? (Es sollten 24 * 60 * 60 = 86400 Werte pro Tag sein.)\n",
    "df.resample('D')[['schallpegel']].count()"
   ]
  },
  {
   "cell_type": "code",
   "execution_count": 106,
   "metadata": {},
   "outputs": [
    {
     "data": {
      "text/plain": [
       "<matplotlib.axes._subplots.AxesSubplot at 0x7fe272371f40>"
      ]
     },
     "execution_count": 106,
     "metadata": {},
     "output_type": "execute_result"
    },
    {
     "data": {
      "image/png": "[encoded data removed]",
      "text/plain": [
       "<Figure size 1080x360 with 1 Axes>"
      ]
     },
     "metadata": {
      "needs_background": "light"
     },
     "output_type": "display_data"
    }
   ],
   "source": [
    "# Wie sieht der Schallpegelverlauf aus? \n",
    "df['schallpegel'].plot(figsize=[15,5])"
   ]
  },
  {
   "cell_type": "code",
   "execution_count": 107,
   "metadata": {},
   "outputs": [
    {
     "data": {
      "text/plain": [
       "<matplotlib.axes._subplots.AxesSubplot at 0x7fe228758730>"
      ]
     },
     "execution_count": 107,
     "metadata": {},
     "output_type": "execute_result"
    },
    {
     "data": {
      "image/png": "[encoded data removed]",
      "text/plain": [
       "<Figure size 1080x360 with 1 Axes>"
      ]
     },
     "metadata": {
      "needs_background": "light"
     },
     "output_type": "display_data"
    }
   ],
   "source": [
    "# Wie sieht der Schallpegelverlauf einer bestimmten Stunde aus? \n",
    "df_test = df.loc['2020-08-21 03']['schallpegel']\n",
    "df_test.plot(figsize=[15,5])"
   ]
  },
  {
   "cell_type": "markdown",
   "metadata": {},
   "source": [
    "### Auswertungen Schallpegel"
   ]
  },
  {
   "cell_type": "code",
   "execution_count": 108,
   "metadata": {},
   "outputs": [
    {
     "data": {
      "text/plain": [
       "60.26218715652108"
      ]
     },
     "execution_count": 108,
     "metadata": {},
     "output_type": "execute_result"
    }
   ],
   "source": [
    "# Wie hoch ist der durchschnittliche Schallpegel? \n",
    "lin2log(df['leistungsverhältnis'].mean())"
   ]
  },
  {
   "cell_type": "code",
   "execution_count": 109,
   "metadata": {},
   "outputs": [
    {
     "data": {
      "text/plain": [
       "61.743562061566365"
      ]
     },
     "execution_count": 109,
     "metadata": {},
     "output_type": "execute_result"
    }
   ],
   "source": [
    "# Wie hoch ist der durchschnittliche Schallpegel während des Tags? \n",
    "# (Definition von Tag und Nacht: https://www.admin.ch/opc/de/classified-compilation/19860372/index.html)\n",
    "lin2log(df.between_time('06:00', '22:00')['leistungsverhältnis'].mean())"
   ]
  },
  {
   "cell_type": "code",
   "execution_count": 110,
   "metadata": {},
   "outputs": [
    {
     "data": {
      "text/plain": [
       "61.61680851763777"
      ]
     },
     "execution_count": 110,
     "metadata": {},
     "output_type": "execute_result"
    }
   ],
   "source": [
    "# Wie hoch ist das durchschnittliche Stundenmittel in den Tagesstunden? \n",
    "lin2log(df.between_time('06:00', '22:00').resample('H')['leistungsverhältnis'].mean().mean())"
   ]
  },
  {
   "cell_type": "code",
   "execution_count": 111,
   "metadata": {},
   "outputs": [
    {
     "data": {
      "text/plain": [
       "52.933019027446235"
      ]
     },
     "execution_count": 111,
     "metadata": {},
     "output_type": "execute_result"
    }
   ],
   "source": [
    "# Wie hoch ist der durchschnittliche Schallpegel während der Nacht? \n",
    "# (Definition von Tag und Nacht: https://www.admin.ch/opc/de/classified-compilation/19860372/index.html)\n",
    "lin2log(df.between_time('22:00', '06:00')['leistungsverhältnis'].mean())"
   ]
  },
  {
   "cell_type": "code",
   "execution_count": 112,
   "metadata": {},
   "outputs": [
    {
     "data": {
      "text/plain": [
       "54.01442719421454"
      ]
     },
     "execution_count": 112,
     "metadata": {},
     "output_type": "execute_result"
    }
   ],
   "source": [
    "# Wie hoch ist das durchschnittliche Stundenmittel in den Nachtstunden? \n",
    "lin2log(df.between_time('22:00', '06:00').resample('H')['leistungsverhältnis'].mean().mean())"
   ]
  },
  {
   "cell_type": "code",
   "execution_count": 113,
   "metadata": {},
   "outputs": [
    {
     "data": {
      "text/plain": [
       "62.20958392675351"
      ]
     },
     "execution_count": 113,
     "metadata": {},
     "output_type": "execute_result"
    }
   ],
   "source": [
    "# Wie laut ist es durchschnittlich zwischen 17 und 18 Uhr? \n",
    "lin2log(df.between_time('17:00', '18:00')['leistungsverhältnis'].mean())"
   ]
  },
  {
   "cell_type": "code",
   "execution_count": 114,
   "metadata": {},
   "outputs": [
    {
     "data": {
      "text/plain": [
       "47.94880909965555"
      ]
     },
     "execution_count": 114,
     "metadata": {},
     "output_type": "execute_result"
    }
   ],
   "source": [
    "# Wie laut ist es durchschnittlich zwischen 3 und 4 Uhr? \n",
    "lin2log(df.between_time('03:00', '04:00')['leistungsverhältnis'].mean())"
   ]
  },
  {
   "cell_type": "code",
   "execution_count": 115,
   "metadata": {},
   "outputs": [
    {
     "data": {
      "text/html": [
       "<div>\n",
       "<style scoped>\n",
       "    .dataframe tbody tr th:only-of-type {\n",
       "        vertical-align: middle;\n",
       "    }\n",
       "\n",
       "    .dataframe tbody tr th {\n",
       "        vertical-align: top;\n",
       "    }\n",
       "\n",
       "    .dataframe thead th {\n",
       "        text-align: right;\n",
       "    }\n",
       "</style>\n",
       "<table border=\"1\" class=\"dataframe\">\n",
       "  <thead>\n",
       "    <tr style=\"text-align: right;\">\n",
       "      <th></th>\n",
       "      <th>schallpegel</th>\n",
       "    </tr>\n",
       "  </thead>\n",
       "  <tbody>\n",
       "    <tr>\n",
       "      <th>0</th>\n",
       "      <td>51.054495</td>\n",
       "    </tr>\n",
       "    <tr>\n",
       "      <th>1</th>\n",
       "      <td>48.829997</td>\n",
       "    </tr>\n",
       "    <tr>\n",
       "      <th>2</th>\n",
       "      <td>47.431309</td>\n",
       "    </tr>\n",
       "    <tr>\n",
       "      <th>3</th>\n",
       "      <td>47.948257</td>\n",
       "    </tr>\n",
       "    <tr>\n",
       "      <th>4</th>\n",
       "      <td>49.945857</td>\n",
       "    </tr>\n",
       "    <tr>\n",
       "      <th>5</th>\n",
       "      <td>56.278889</td>\n",
       "    </tr>\n",
       "    <tr>\n",
       "      <th>6</th>\n",
       "      <td>61.039786</td>\n",
       "    </tr>\n",
       "    <tr>\n",
       "      <th>7</th>\n",
       "      <td>61.789991</td>\n",
       "    </tr>\n",
       "    <tr>\n",
       "      <th>8</th>\n",
       "      <td>61.576972</td>\n",
       "    </tr>\n",
       "    <tr>\n",
       "      <th>9</th>\n",
       "      <td>61.880826</td>\n",
       "    </tr>\n",
       "    <tr>\n",
       "      <th>10</th>\n",
       "      <td>62.699333</td>\n",
       "    </tr>\n",
       "    <tr>\n",
       "      <th>11</th>\n",
       "      <td>64.480565</td>\n",
       "    </tr>\n",
       "    <tr>\n",
       "      <th>12</th>\n",
       "      <td>61.671313</td>\n",
       "    </tr>\n",
       "    <tr>\n",
       "      <th>13</th>\n",
       "      <td>61.924902</td>\n",
       "    </tr>\n",
       "    <tr>\n",
       "      <th>14</th>\n",
       "      <td>61.860318</td>\n",
       "    </tr>\n",
       "    <tr>\n",
       "      <th>15</th>\n",
       "      <td>62.118856</td>\n",
       "    </tr>\n",
       "    <tr>\n",
       "      <th>16</th>\n",
       "      <td>61.842725</td>\n",
       "    </tr>\n",
       "    <tr>\n",
       "      <th>17</th>\n",
       "      <td>62.209559</td>\n",
       "    </tr>\n",
       "    <tr>\n",
       "      <th>18</th>\n",
       "      <td>62.093477</td>\n",
       "    </tr>\n",
       "    <tr>\n",
       "      <th>19</th>\n",
       "      <td>60.302635</td>\n",
       "    </tr>\n",
       "    <tr>\n",
       "      <th>20</th>\n",
       "      <td>58.811598</td>\n",
       "    </tr>\n",
       "    <tr>\n",
       "      <th>21</th>\n",
       "      <td>58.076254</td>\n",
       "    </tr>\n",
       "    <tr>\n",
       "      <th>22</th>\n",
       "      <td>56.702370</td>\n",
       "    </tr>\n",
       "    <tr>\n",
       "      <th>23</th>\n",
       "      <td>54.103678</td>\n",
       "    </tr>\n",
       "  </tbody>\n",
       "</table>\n",
       "</div>"
      ],
      "text/plain": [
       "    schallpegel\n",
       "0     51.054495\n",
       "1     48.829997\n",
       "2     47.431309\n",
       "3     47.948257\n",
       "4     49.945857\n",
       "5     56.278889\n",
       "6     61.039786\n",
       "7     61.789991\n",
       "8     61.576972\n",
       "9     61.880826\n",
       "10    62.699333\n",
       "11    64.480565\n",
       "12    61.671313\n",
       "13    61.924902\n",
       "14    61.860318\n",
       "15    62.118856\n",
       "16    61.842725\n",
       "17    62.209559\n",
       "18    62.093477\n",
       "19    60.302635\n",
       "20    58.811598\n",
       "21    58.076254\n",
       "22    56.702370\n",
       "23    54.103678"
      ]
     },
     "execution_count": 115,
     "metadata": {},
     "output_type": "execute_result"
    }
   ],
   "source": [
    "# Wie laut ist es in den einzelnen Stunden eines durchschnittlichen Tages? \n",
    "df_temp = pd.DataFrame()\n",
    "for i in range(24):\n",
    "    s = lin2log(df.between_time(str(i) + ':00', str(i) + ':59:59')['leistungsverhältnis'].mean())\n",
    "    df_temp.at[i, 'schallpegel'] = s\n",
    "df_temp"
   ]
  },
  {
   "cell_type": "code",
   "execution_count": 116,
   "metadata": {},
   "outputs": [
    {
     "data": {
      "text/html": [
       "<div>\n",
       "<style scoped>\n",
       "    .dataframe tbody tr th:only-of-type {\n",
       "        vertical-align: middle;\n",
       "    }\n",
       "\n",
       "    .dataframe tbody tr th {\n",
       "        vertical-align: top;\n",
       "    }\n",
       "\n",
       "    .dataframe thead th {\n",
       "        text-align: right;\n",
       "    }\n",
       "</style>\n",
       "<table border=\"1\" class=\"dataframe\">\n",
       "  <thead>\n",
       "    <tr style=\"text-align: right;\">\n",
       "      <th></th>\n",
       "      <th>schallpegel</th>\n",
       "      <th>leistungsverhältnis</th>\n",
       "    </tr>\n",
       "    <tr>\n",
       "      <th>datetime</th>\n",
       "      <th></th>\n",
       "      <th></th>\n",
       "    </tr>\n",
       "  </thead>\n",
       "  <tbody>\n",
       "    <tr>\n",
       "      <th>2020-09-16 15:39:24</th>\n",
       "      <td>99.0614</td>\n",
       "      <td>8.056381e+09</td>\n",
       "    </tr>\n",
       "    <tr>\n",
       "      <th>2020-09-19 12:32:35</th>\n",
       "      <td>98.1614</td>\n",
       "      <td>6.548472e+09</td>\n",
       "    </tr>\n",
       "    <tr>\n",
       "      <th>2020-08-21 15:59:39</th>\n",
       "      <td>97.9614</td>\n",
       "      <td>6.253743e+09</td>\n",
       "    </tr>\n",
       "    <tr>\n",
       "      <th>2020-09-12 12:41:24</th>\n",
       "      <td>97.4614</td>\n",
       "      <td>5.573654e+09</td>\n",
       "    </tr>\n",
       "    <tr>\n",
       "      <th>2020-09-15 18:40:33</th>\n",
       "      <td>97.2614</td>\n",
       "      <td>5.322798e+09</td>\n",
       "    </tr>\n",
       "  </tbody>\n",
       "</table>\n",
       "</div>"
      ],
      "text/plain": [
       "                     schallpegel  leistungsverhältnis\n",
       "datetime                                             \n",
       "2020-09-16 15:39:24      99.0614         8.056381e+09\n",
       "2020-09-19 12:32:35      98.1614         6.548472e+09\n",
       "2020-08-21 15:59:39      97.9614         6.253743e+09\n",
       "2020-09-12 12:41:24      97.4614         5.573654e+09\n",
       "2020-09-15 18:40:33      97.2614         5.322798e+09"
      ]
     },
     "execution_count": 116,
     "metadata": {},
     "output_type": "execute_result"
    }
   ],
   "source": [
    "# Wann wurden die höchsten Pegel registriert? \n",
    "df.sort_values(by= 'schallpegel', ascending=False).head()"
   ]
  },
  {
   "cell_type": "code",
   "execution_count": 117,
   "metadata": {},
   "outputs": [
    {
     "data": {
      "text/plain": [
       "30.7614"
      ]
     },
     "execution_count": 117,
     "metadata": {},
     "output_type": "execute_result"
    }
   ],
   "source": [
    "# Wie hoch ist der minimale Schallpegel? \n",
    "df['schallpegel'].min()"
   ]
  },
  {
   "cell_type": "code",
   "execution_count": 118,
   "metadata": {},
   "outputs": [
    {
     "data": {
      "text/html": [
       "<div>\n",
       "<style scoped>\n",
       "    .dataframe tbody tr th:only-of-type {\n",
       "        vertical-align: middle;\n",
       "    }\n",
       "\n",
       "    .dataframe tbody tr th {\n",
       "        vertical-align: top;\n",
       "    }\n",
       "\n",
       "    .dataframe thead th {\n",
       "        text-align: right;\n",
       "    }\n",
       "</style>\n",
       "<table border=\"1\" class=\"dataframe\">\n",
       "  <thead>\n",
       "    <tr style=\"text-align: right;\">\n",
       "      <th></th>\n",
       "      <th>schallpegel</th>\n",
       "      <th>leistungsverhältnis</th>\n",
       "    </tr>\n",
       "    <tr>\n",
       "      <th>datetime</th>\n",
       "      <th></th>\n",
       "      <th></th>\n",
       "    </tr>\n",
       "  </thead>\n",
       "  <tbody>\n",
       "    <tr>\n",
       "      <th>2020-09-28 00:23:21</th>\n",
       "      <td>30.7614</td>\n",
       "      <td>1191.626081</td>\n",
       "    </tr>\n",
       "    <tr>\n",
       "      <th>2020-09-28 01:41:25</th>\n",
       "      <td>30.7614</td>\n",
       "      <td>1191.626081</td>\n",
       "    </tr>\n",
       "  </tbody>\n",
       "</table>\n",
       "</div>"
      ],
      "text/plain": [
       "                     schallpegel  leistungsverhältnis\n",
       "datetime                                             \n",
       "2020-09-28 00:23:21      30.7614          1191.626081\n",
       "2020-09-28 01:41:25      30.7614          1191.626081"
      ]
     },
     "execution_count": 118,
     "metadata": {},
     "output_type": "execute_result"
    }
   ],
   "source": [
    "# Wann wurde der tiefste Pegel registriert? \n",
    "df[df['schallpegel'] == df['schallpegel'].min()]"
   ]
  },
  {
   "cell_type": "code",
   "execution_count": 119,
   "metadata": {},
   "outputs": [
    {
     "data": {
      "text/plain": [
       "40.6614"
      ]
     },
     "execution_count": 119,
     "metadata": {},
     "output_type": "execute_result"
    }
   ],
   "source": [
    "# Wie hoch ist das \"Grundrauschen\"?\n",
    "df['schallpegel'].quantile(.25)"
   ]
  },
  {
   "cell_type": "code",
   "execution_count": 120,
   "metadata": {},
   "outputs": [
    {
     "data": {
      "text/plain": [
       "60.7614"
      ]
     },
     "execution_count": 120,
     "metadata": {},
     "output_type": "execute_result"
    }
   ],
   "source": [
    "# Wie hoch liegt der Wert des 0.75 Perzentils?\n",
    "df['schallpegel'].quantile(.75)"
   ]
  },
  {
   "cell_type": "code",
   "execution_count": 121,
   "metadata": {},
   "outputs": [
    {
     "data": {
      "text/plain": [
       "28.753859420212088"
      ]
     },
     "execution_count": 121,
     "metadata": {},
     "output_type": "execute_result"
    }
   ],
   "source": [
    "# Bei wievielen Prozent der Messungen liegt der Schallpegel über 60 Dezibel? \n",
    "(100 * df[df['schallpegel'] > 60].count() / df.count())['schallpegel']"
   ]
  },
  {
   "cell_type": "code",
   "execution_count": 122,
   "metadata": {},
   "outputs": [
    {
     "data": {
      "text/plain": [
       "5.615201253198467"
      ]
     },
     "execution_count": 122,
     "metadata": {},
     "output_type": "execute_result"
    }
   ],
   "source": [
    "# Bei wievielen Prozent der Messungen liegt der Schallpegel über 65 Dezibel? \n",
    "(100 * df[df['schallpegel'] > 65].count() / df.count())['schallpegel']"
   ]
  },
  {
   "cell_type": "code",
   "execution_count": 123,
   "metadata": {},
   "outputs": [
    {
     "data": {
      "text/html": [
       "<div>\n",
       "<style scoped>\n",
       "    .dataframe tbody tr th:only-of-type {\n",
       "        vertical-align: middle;\n",
       "    }\n",
       "\n",
       "    .dataframe tbody tr th {\n",
       "        vertical-align: top;\n",
       "    }\n",
       "\n",
       "    .dataframe thead th {\n",
       "        text-align: right;\n",
       "    }\n",
       "</style>\n",
       "<table border=\"1\" class=\"dataframe\">\n",
       "  <thead>\n",
       "    <tr style=\"text-align: right;\">\n",
       "      <th></th>\n",
       "      <th>schallpegel</th>\n",
       "    </tr>\n",
       "  </thead>\n",
       "  <tbody>\n",
       "    <tr>\n",
       "      <th>count</th>\n",
       "      <td>65.000000</td>\n",
       "    </tr>\n",
       "    <tr>\n",
       "      <th>mean</th>\n",
       "      <td>76.249231</td>\n",
       "    </tr>\n",
       "    <tr>\n",
       "      <th>std</th>\n",
       "      <td>31.746266</td>\n",
       "    </tr>\n",
       "    <tr>\n",
       "      <th>min</th>\n",
       "      <td>20.616667</td>\n",
       "    </tr>\n",
       "    <tr>\n",
       "      <th>25%</th>\n",
       "      <td>61.816667</td>\n",
       "    </tr>\n",
       "    <tr>\n",
       "      <th>50%</th>\n",
       "      <td>71.700000</td>\n",
       "    </tr>\n",
       "    <tr>\n",
       "      <th>75%</th>\n",
       "      <td>86.383333</td>\n",
       "    </tr>\n",
       "    <tr>\n",
       "      <th>max</th>\n",
       "      <td>157.850000</td>\n",
       "    </tr>\n",
       "  </tbody>\n",
       "</table>\n",
       "</div>"
      ],
      "text/plain": [
       "       schallpegel\n",
       "count    65.000000\n",
       "mean     76.249231\n",
       "std      31.746266\n",
       "min      20.616667\n",
       "25%      61.816667\n",
       "50%      71.700000\n",
       "75%      86.383333\n",
       "max     157.850000"
      ]
     },
     "execution_count": 123,
     "metadata": {},
     "output_type": "execute_result"
    }
   ],
   "source": [
    "# Wenn man die lauten Sekunden zusammenzählt: Während wie vielen Minuten liegt der Schallpegel \n",
    "# unter tags bei über 65 Dezibel?\n",
    "df_temp = df.between_time('06:00','22:00')\n",
    "df_temp = df_temp[df_temp['schallpegel'] > 65]\n",
    "(df_temp.resample('D').count()[['schallpegel']] / 60).describe()"
   ]
  },
  {
   "cell_type": "code",
   "execution_count": 124,
   "metadata": {},
   "outputs": [
    {
     "data": {
      "text/html": [
       "<div>\n",
       "<style scoped>\n",
       "    .dataframe tbody tr th:only-of-type {\n",
       "        vertical-align: middle;\n",
       "    }\n",
       "\n",
       "    .dataframe tbody tr th {\n",
       "        vertical-align: top;\n",
       "    }\n",
       "\n",
       "    .dataframe thead th {\n",
       "        text-align: right;\n",
       "    }\n",
       "</style>\n",
       "<table border=\"1\" class=\"dataframe\">\n",
       "  <thead>\n",
       "    <tr style=\"text-align: right;\">\n",
       "      <th></th>\n",
       "      <th>schallpegel</th>\n",
       "    </tr>\n",
       "  </thead>\n",
       "  <tbody>\n",
       "    <tr>\n",
       "      <th>count</th>\n",
       "      <td>65.000000</td>\n",
       "    </tr>\n",
       "    <tr>\n",
       "      <th>mean</th>\n",
       "      <td>56.236923</td>\n",
       "    </tr>\n",
       "    <tr>\n",
       "      <th>std</th>\n",
       "      <td>17.907790</td>\n",
       "    </tr>\n",
       "    <tr>\n",
       "      <th>min</th>\n",
       "      <td>35.816667</td>\n",
       "    </tr>\n",
       "    <tr>\n",
       "      <th>25%</th>\n",
       "      <td>48.316667</td>\n",
       "    </tr>\n",
       "    <tr>\n",
       "      <th>50%</th>\n",
       "      <td>53.683333</td>\n",
       "    </tr>\n",
       "    <tr>\n",
       "      <th>75%</th>\n",
       "      <td>61.000000</td>\n",
       "    </tr>\n",
       "    <tr>\n",
       "      <th>max</th>\n",
       "      <td>178.400000</td>\n",
       "    </tr>\n",
       "  </tbody>\n",
       "</table>\n",
       "</div>"
      ],
      "text/plain": [
       "       schallpegel\n",
       "count    65.000000\n",
       "mean     56.236923\n",
       "std      17.907790\n",
       "min      35.816667\n",
       "25%      48.316667\n",
       "50%      53.683333\n",
       "75%      61.000000\n",
       "max     178.400000"
      ]
     },
     "execution_count": 124,
     "metadata": {},
     "output_type": "execute_result"
    }
   ],
   "source": [
    "# Wenn man die lauten Sekunden zusammenzählt: Während wie vielen Minuten liegt der Schallpegel \n",
    "# in der Nacht bei über 55 Dezibel?\n",
    "df_temp = df.between_time('22:00','06:00')\n",
    "df_temp = df_temp[df_temp['schallpegel'] > 55]\n",
    "(df_temp.resample('D').count()[['schallpegel']] / 60).describe()"
   ]
  },
  {
   "cell_type": "code",
   "execution_count": 128,
   "metadata": {},
   "outputs": [
    {
     "data": {
      "text/plain": [
       "count     65.000000\n",
       "mean      80.762821\n",
       "std       33.573959\n",
       "min       22.766667\n",
       "25%       65.650000\n",
       "50%       75.233333\n",
       "75%       92.350000\n",
       "max      168.700000\n",
       "Name: schallpegel, dtype: float64"
      ]
     },
     "execution_count": 128,
     "metadata": {},
     "output_type": "execute_result"
    }
   ],
   "source": [
    "# Wenn man alle Sekunden addiert: Während wie vielen Minuten pro Tag wird der Grenzwert von 65 Dezibel überschritten? \n",
    "(df[df['schallpegel'] > 65]['schallpegel'].resample('D').count() / 60).describe()"
   ]
  },
  {
   "cell_type": "code",
   "execution_count": 76,
   "metadata": {},
   "outputs": [
    {
     "name": "stdout",
     "output_type": "stream",
     "text": [
      "Stunden insgesamt: 1560\n",
      "Stunden mit Mittelwerten über dem Grenzwert: 29\n",
      "Anteil in Prozent: 1.858974358974359\n"
     ]
    }
   ],
   "source": [
    "# Wie oft liegt der Stundenmittelwert während des Tags über dem Grenzwert von 65dB?\n",
    "df_temp = df.between_time('06:00', '22:00')\n",
    "df_temp = df_temp.resample('H')[['leistungsverhältnis']].mean()\n",
    "df_temp['schallpegel'] = df_temp['leistungsverhältnis'].apply(lin2log)\n",
    "df_temp = df_temp[df_temp['schallpegel'] > 65]\n",
    "print('Stunden insgesamt:', len(df.resample('H').sum()))\n",
    "print('Stunden mit Mittelwerten über dem Grenzwert:', len(df_temp))\n",
    "print('Anteil in Prozent:', 100 * len(df_temp) / len(df.resample('H').sum()))"
   ]
  },
  {
   "cell_type": "code",
   "execution_count": 77,
   "metadata": {},
   "outputs": [
    {
     "name": "stdout",
     "output_type": "stream",
     "text": [
      "Tage insgesamt: 65\n",
      "Tage mit Stundenmitteln, die durchschnittlich über 65dB liegen: 1\n",
      "In Prozent: 1.5384615384615385\n"
     ]
    }
   ],
   "source": [
    "# An wievielen Tagen liegt der Stundenmittelwert während des Tags durchschnittlich über 65dB?\n",
    "df_temp = df.between_time('06:00', '22:00').resample('H')[['leistungsverhältnis']].mean()\n",
    "df_temp = df_temp.resample('D').mean().apply(lin2log)\n",
    "df_temp.columns = ['schallpegel']\n",
    "print('Tage insgesamt:', len(df.resample('d').sum()))\n",
    "print('Tage mit Stundenmitteln, die durchschnittlich über 65dB liegen:', len(df_temp[df_temp['schallpegel'] > 65]))\n",
    "print('In Prozent:', 100 * len(df_temp[df_temp['schallpegel'] > 65]) / len(df.resample('d').sum()))"
   ]
  },
  {
   "cell_type": "code",
   "execution_count": 78,
   "metadata": {},
   "outputs": [
    {
     "name": "stdout",
     "output_type": "stream",
     "text": [
      "Stunden insgesamt: 1560\n",
      "Stunden mit Mittelwerten über dem Grenzwert: 152\n",
      "Anteil in Prozent: 9.743589743589743\n"
     ]
    }
   ],
   "source": [
    "# Wie oft liegt der Stundenmittelwert während der Nacht über dem Grenzwert von 55dB?\n",
    "df_temp = df.between_time('22:00', '06:00')\n",
    "df_temp = df_temp.resample('H')[['leistungsverhältnis']].mean()\n",
    "df_temp['schallpegel'] = df_temp['leistungsverhältnis'].apply(lin2log)\n",
    "df_temp = df_temp[df_temp['schallpegel'] > 55]\n",
    "print('Stunden insgesamt:', len(df.resample('H').sum()))\n",
    "print('Stunden mit Mittelwerten über dem Grenzwert:', len(df_temp))\n",
    "print('Anteil in Prozent:', 100 * len(df_temp) / len(df.resample('H').sum()))"
   ]
  },
  {
   "cell_type": "code",
   "execution_count": 130,
   "metadata": {},
   "outputs": [
    {
     "data": {
      "text/plain": [
       "<matplotlib.axes._subplots.AxesSubplot at 0x7fe2456bbb80>"
      ]
     },
     "execution_count": 130,
     "metadata": {},
     "output_type": "execute_result"
    },
    {
     "data": {
      "image/png": "[encoded data removed]",
      "text/plain": [
       "<Figure size 1080x360 with 1 Axes>"
      ]
     },
     "metadata": {
      "needs_background": "light"
     },
     "output_type": "display_data"
    }
   ],
   "source": [
    "# Gibts Unterschiede zwischen den einzelnen Tagen? Die Grafik. \n",
    "fig, ax = plt.subplots()\n",
    "df['leistungsverhältnis'].resample('D').mean().apply(lin2log).plot(kind='bar', figsize=[15,5], ax=ax)"
   ]
  },
  {
   "cell_type": "code",
   "execution_count": 131,
   "metadata": {
    "scrolled": true
   },
   "outputs": [
    {
     "name": "stdout",
     "output_type": "stream",
     "text": [
      "Montag: 60.057750628742816\n",
      "Dienstag: 60.383950720847224\n",
      "Mittwoch: 60.17871361728534\n",
      "Donnerstag: 60.18530532117467\n",
      "Freitag: 60.49917394449551\n",
      "Samstag: 61.72759908952021\n",
      "Sonntag: 58.33067081544746\n"
     ]
    }
   ],
   "source": [
    "# Gibts Unterschiede zwischen den einzelnen Wochentagen? \n",
    "df_temp = df.copy()\n",
    "df_temp['wochentag'] = df_temp.index.dayofweek\n",
    "wochentage = {0: 'Montag', 1: 'Dienstag', 0: 'Montag', 2: 'Mittwoch', 3: 'Donnerstag', 4: 'Freitag', 5: 'Samstag', 6: 'Sonntag'}\n",
    "for i in range(7):\n",
    "    print(wochentage[i] + ':', lin2log(df_temp[df_temp['wochentag'] == i]['leistungsverhältnis'].mean()))"
   ]
  },
  {
   "cell_type": "code",
   "execution_count": 132,
   "metadata": {},
   "outputs": [
    {
     "data": {
      "text/plain": [
       "60.25950269685986"
      ]
     },
     "execution_count": 132,
     "metadata": {},
     "output_type": "execute_result"
    }
   ],
   "source": [
    "# Wie laut ist es durchschnittlich an Werktagen?\n",
    "lin2log(df_temp[df_temp['wochentag'] < 5]['leistungsverhältnis'].mean())"
   ]
  },
  {
   "cell_type": "code",
   "execution_count": 133,
   "metadata": {},
   "outputs": [
    {
     "data": {
      "text/plain": [
       "60.26868731398054"
      ]
     },
     "execution_count": 133,
     "metadata": {},
     "output_type": "execute_result"
    }
   ],
   "source": [
    "# Wie laut ist es durchschnittlich am Wochenende?\n",
    "lin2log(df_temp[df_temp['wochentag'] >=5]['leistungsverhältnis'].mean())"
   ]
  },
  {
   "cell_type": "markdown",
   "metadata": {},
   "source": [
    "### Datenexporte"
   ]
  },
  {
   "cell_type": "code",
   "execution_count": 134,
   "metadata": {},
   "outputs": [],
   "source": [
    "# Gesamtexport Stundenmittelwerte. \n",
    "df_temp = df['leistungsverhältnis'].resample('H').mean().apply(lin2log)\n",
    "df_temp = pd.DataFrame(df_temp)\n",
    "df_temp.columns = ['schallpegel']\n",
    "df_temp.to_csv('export/wichtrach_stundenmittelwerte.csv')"
   ]
  },
  {
   "cell_type": "code",
   "execution_count": 135,
   "metadata": {},
   "outputs": [
    {
     "data": {
      "text/plain": [
       "<matplotlib.axes._subplots.AxesSubplot at 0x7fe27233b640>"
      ]
     },
     "execution_count": 135,
     "metadata": {},
     "output_type": "execute_result"
    },
    {
     "data": {
      "image/png": "[encoded data removed]",
      "text/plain": [
       "<Figure size 1080x360 with 1 Axes>"
      ]
     },
     "metadata": {
      "needs_background": "light"
     },
     "output_type": "display_data"
    }
   ],
   "source": [
    "# Wie unterscheidet sich der Schallpegel an Werktagen von jenem am Wochenende? \n",
    "df_temp = df.copy()\n",
    "df_temp['wochentag'] = df_temp.index\n",
    "df_temp['wochentag'] = df_temp['wochentag'].apply(lambda x: wochentage[x.dayofweek])\n",
    "\n",
    "df_temp1 = df_temp[(df_temp['wochentag'] != 'Samstag') & (df_temp['wochentag'] != 'Sonntag')]\n",
    "df_temp2 = df_temp[(df_temp['wochentag'] == 'Samstag') | (df_temp['wochentag'] == 'Sonntag')]\n",
    "\n",
    "fig, ax = plt.subplots(figsize=[15,5])\n",
    "df_temp1.groupby(by=df_temp1.index.hour)['leistungsverhältnis'].mean().apply(lin2log).plot(ax=ax, color='blue')\n",
    "df_temp2.groupby(by=df_temp2.index.hour)['leistungsverhältnis'].mean().apply(lin2log).plot(ax=ax, color='green')"
   ]
  },
  {
   "cell_type": "code",
   "execution_count": 136,
   "metadata": {},
   "outputs": [
    {
     "name": "stdout",
     "output_type": "stream",
     "text": [
      "datetime,Arbeitstage,Wochenende\n",
      "0,48.42362999240155,54.30148426416999\n",
      "1,45.50009026461042,52.44092647069094\n",
      "2,44.56971539558936,50.79306627767074\n",
      "3,46.85991641817168,49.81436053392252\n",
      "4,50.279731198410786,49.011997449890686\n",
      "5,57.30385875512812,51.78626234782982\n",
      "6,62.16710442171552,55.546846807312996\n",
      "7,62.841259969427554,57.063071383777256\n",
      "8,62.303015319287084,59.053225838466815\n",
      "9,62.18001972941526,61.05727941790348\n",
      "10,62.033223059392846,63.984639139807065\n",
      "11,62.05351008156954,67.57050305809182\n",
      "12,61.07862311876323,62.853207377890364\n",
      "13,61.970877031518896,61.81152225291849\n",
      "14,62.15371003666789,61.05520667760645\n",
      "15,62.48159727475886,61.08711323861755\n",
      "16,62.001314979638664,61.43296567031324\n",
      "17,62.10419547776582,62.45449122237345\n",
      "18,62.162827426850825,61.920853700223404\n",
      "19,60.83650374157862,58.64883833364566\n",
      "20,58.94130896508454,58.48053093947205\n",
      "21,58.07289830581525,58.084367126696684\n",
      "22,56.89643776223781,56.19315449256355\n",
      "23,54.12288576123959,54.05681378824251\n",
      "\n"
     ]
    }
   ],
   "source": [
    "# Unterschiede Werktage zum Wochenende: Export für Datawrapper. \n",
    "df_temp3 = pd.concat([df_temp1.groupby(by=df_temp1.index.hour)['leistungsverhältnis'].mean().apply(lin2log),\n",
    "                      df_temp2.groupby(by=df_temp2.index.hour)['leistungsverhältnis'].mean().apply(lin2log)], \n",
    "                     axis=1)\n",
    "df_temp3.columns = ['Arbeitstage', 'Wochenende']\n",
    "print(df_temp3.to_csv())"
   ]
  },
  {
   "cell_type": "markdown",
   "metadata": {},
   "source": [
    "### Anzahl Fahrzeuge\n",
    "Gemessen wurde in unserem Versuch lediglich der Schalldruck. Am betreffenden Ort ist davon auszugehen, dass die allermeisten höheren Werte von vorbeifahrenden Autos verursacht wurden. Aus den Schallpegeln lässt sich deshalb die ungefähre Anzahl Fahrzeuge errechnen. Dabei handelt es sich lediglich um eine grobe Schätzung, da der durch Fahrzeuge verursachten Schall nicht von anderem Schall unterschieden werden kann. \n",
    "\n",
    "In den Berechnungen gehen wir davon aus, dass durch ein Fahrzeug 55 oder mehr Dezibel Lärm verursacht wird. Um einzelne Fahrzeuge nicht mehrfach zu zählen, wird pro 2 Sekunden höchstens eine Durchfahrt registriert."
   ]
  },
  {
   "cell_type": "code",
   "execution_count": 139,
   "metadata": {},
   "outputs": [],
   "source": [
    "def autozähler(df_temp, illu):\n",
    "    peaks = detect_peaks(df_temp['schallpegel'].resample('2s').median(), mpd=3, mph=55, show=illu, edge='rising')\n",
    "    return len(peaks)"
   ]
  },
  {
   "cell_type": "code",
   "execution_count": 145,
   "metadata": {},
   "outputs": [
    {
     "data": {
      "image/png": "[encoded data removed]",
      "text/plain": [
       "<Figure size 576x288 with 1 Axes>"
      ]
     },
     "metadata": {
      "needs_background": "light"
     },
     "output_type": "display_data"
    },
    {
     "data": {
      "text/plain": [
       "14"
      ]
     },
     "execution_count": 145,
     "metadata": {},
     "output_type": "execute_result"
    }
   ],
   "source": [
    "# Beispiel: Die Anzahl Autos wird gezählt. \n",
    "autozähler(df.loc['2020-09-12 02:00': '2020-09-12 02:20'], True)"
   ]
  },
  {
   "cell_type": "code",
   "execution_count": 164,
   "metadata": {},
   "outputs": [
    {
     "name": "stderr",
     "output_type": "stream",
     "text": [
      "100%|█████████▉| 1558/1560 [00:08<00:00, 194.56it/s]\n"
     ]
    }
   ],
   "source": [
    "n = 0\n",
    "autodict = dict()\n",
    "daterange = pd.date_range(df.index.min(), df.index.max(), freq='H')\n",
    "for d in tqdm(daterange): \n",
    "    n += 1\n",
    "    autodict[d] = autozähler(df.loc[str(d): str(daterange[n])].iloc[:-1], False)\n",
    "    if n == len(daterange) -1 :\n",
    "        break\n",
    "\n",
    "df_auto = pd.DataFrame.from_dict(autodict, orient='index')\n",
    "df_auto['wochentag'] = df_auto.index.dayofweek\n",
    "df_auto['wochentag'] = df_auto['wochentag'].apply(lambda x: wochentage[x])\n",
    "df_auto.columns = ['anz_autos', 'wochentag']\n",
    "df_auto = df_auto.loc['2020-08-10':]"
   ]
  },
  {
   "cell_type": "markdown",
   "metadata": {},
   "source": [
    "### Auswertungen zur Anzahl Fahrzeuge\n",
    "Die Zählung der Anzahl Fahrzeuge ist bloss während der Nachtstunden ziemlich zuverlässig. Während des Tages ist der Verkehr zu dicht und damit der Schallpegel permanent sehr hoch, als dass einzelne Fahrzeuge mit hoher Wahrscheinlichkeit erkannt werden könnten. Deshalb wird in der Folge bloss die Nacht ausgewertet.  "
   ]
  },
  {
   "cell_type": "code",
   "execution_count": 148,
   "metadata": {},
   "outputs": [
    {
     "data": {
      "text/html": [
       "<div>\n",
       "<style scoped>\n",
       "    .dataframe tbody tr th:only-of-type {\n",
       "        vertical-align: middle;\n",
       "    }\n",
       "\n",
       "    .dataframe tbody tr th {\n",
       "        vertical-align: top;\n",
       "    }\n",
       "\n",
       "    .dataframe thead th {\n",
       "        text-align: right;\n",
       "    }\n",
       "</style>\n",
       "<table border=\"1\" class=\"dataframe\">\n",
       "  <thead>\n",
       "    <tr style=\"text-align: right;\">\n",
       "      <th></th>\n",
       "      <th>anz_autos</th>\n",
       "      <th>wochentag</th>\n",
       "    </tr>\n",
       "  </thead>\n",
       "  <tbody>\n",
       "    <tr>\n",
       "      <th>2020-08-09 00:14:14</th>\n",
       "      <td>277</td>\n",
       "      <td>Sonntag</td>\n",
       "    </tr>\n",
       "    <tr>\n",
       "      <th>2020-08-09 01:14:14</th>\n",
       "      <td>257</td>\n",
       "      <td>Sonntag</td>\n",
       "    </tr>\n",
       "    <tr>\n",
       "      <th>2020-08-09 02:14:14</th>\n",
       "      <td>199</td>\n",
       "      <td>Sonntag</td>\n",
       "    </tr>\n",
       "    <tr>\n",
       "      <th>2020-08-17 05:14:14</th>\n",
       "      <td>173</td>\n",
       "      <td>Montag</td>\n",
       "    </tr>\n",
       "    <tr>\n",
       "      <th>2020-09-29 05:14:14</th>\n",
       "      <td>172</td>\n",
       "      <td>Dienstag</td>\n",
       "    </tr>\n",
       "    <tr>\n",
       "      <th>2020-08-26 05:14:14</th>\n",
       "      <td>171</td>\n",
       "      <td>Mittwoch</td>\n",
       "    </tr>\n",
       "    <tr>\n",
       "      <th>2020-08-25 05:14:14</th>\n",
       "      <td>170</td>\n",
       "      <td>Dienstag</td>\n",
       "    </tr>\n",
       "    <tr>\n",
       "      <th>2020-08-13 05:14:14</th>\n",
       "      <td>170</td>\n",
       "      <td>Donnerstag</td>\n",
       "    </tr>\n",
       "    <tr>\n",
       "      <th>2020-09-15 05:14:14</th>\n",
       "      <td>167</td>\n",
       "      <td>Dienstag</td>\n",
       "    </tr>\n",
       "    <tr>\n",
       "      <th>2020-08-14 05:14:14</th>\n",
       "      <td>167</td>\n",
       "      <td>Freitag</td>\n",
       "    </tr>\n",
       "  </tbody>\n",
       "</table>\n",
       "</div>"
      ],
      "text/plain": [
       "                     anz_autos   wochentag\n",
       "2020-08-09 00:14:14        277     Sonntag\n",
       "2020-08-09 01:14:14        257     Sonntag\n",
       "2020-08-09 02:14:14        199     Sonntag\n",
       "2020-08-17 05:14:14        173      Montag\n",
       "2020-09-29 05:14:14        172    Dienstag\n",
       "2020-08-26 05:14:14        171    Mittwoch\n",
       "2020-08-25 05:14:14        170    Dienstag\n",
       "2020-08-13 05:14:14        170  Donnerstag\n",
       "2020-09-15 05:14:14        167    Dienstag\n",
       "2020-08-14 05:14:14        167     Freitag"
      ]
     },
     "execution_count": 148,
     "metadata": {},
     "output_type": "execute_result"
    }
   ],
   "source": [
    "# In welchen Nachtstunden gab es am meisten Verkehr? \n",
    "df_auto.between_time('22:00', '06:00').sort_values(by='anz_autos', ascending=False).head(10)"
   ]
  },
  {
   "cell_type": "code",
   "execution_count": 160,
   "metadata": {},
   "outputs": [
    {
     "data": {
      "text/plain": [
       "<matplotlib.axes._subplots.AxesSubplot at 0x7fe241dd0af0>"
      ]
     },
     "execution_count": 160,
     "metadata": {},
     "output_type": "execute_result"
    },
    {
     "data": {
      "image/png": "[encoded data removed]",
      "text/plain": [
       "<Figure size 1080x360 with 1 Axes>"
      ]
     },
     "metadata": {
      "needs_background": "light"
     },
     "output_type": "display_data"
    }
   ],
   "source": [
    "# Grafik: Wie viele Fahrzeuge werden pro Nacht verzeichnet. \n",
    "df_auto.between_time('22:00', '06:00')[['anz_autos']].resample('D').sum().plot(kind='bar', figsize=[15,5])"
   ]
  },
  {
   "cell_type": "code",
   "execution_count": 162,
   "metadata": {},
   "outputs": [
    {
     "data": {
      "text/plain": [
       "anz_autos    448.046875\n",
       "dtype: float64"
      ]
     },
     "execution_count": 162,
     "metadata": {},
     "output_type": "execute_result"
    }
   ],
   "source": [
    "# Wie gross ist das Verkehrsaufkommen in einer durchschnittlichen Nacht? \n",
    "df_temp = df_auto.between_time('22:00', '06:00').resample('D').sum()\n",
    "df_temp['anz_autos'] = df_temp['anz_autos'].replace(0, np.NaN)\n",
    "df_temp.mean()"
   ]
  },
  {
   "cell_type": "code",
   "execution_count": 151,
   "metadata": {},
   "outputs": [
    {
     "data": {
      "text/plain": [
       "anz_autos    455.217391\n",
       "dtype: float64"
      ]
     },
     "execution_count": 151,
     "metadata": {},
     "output_type": "execute_result"
    }
   ],
   "source": [
    "# Wie viele Fahrzeuge fahren durchschnittlich an Wochentagen durch? \n",
    "df_temp = df_auto.between_time('22:00', '06:00')\n",
    "df_temp = df_temp[(df_temp['wochentag'] != 'Samstag') & (df_temp['wochentag'] != 'Sonntag')]\n",
    "df_temp = df_temp.resample('D')[['anz_autos']].sum()\n",
    "df_temp['anz_autos'] = df_temp['anz_autos'].replace(0, np.NaN)\n",
    "df_temp.mean()"
   ]
  },
  {
   "cell_type": "code",
   "execution_count": 153,
   "metadata": {},
   "outputs": [
    {
     "data": {
      "text/plain": [
       "anz_autos    460.631579\n",
       "dtype: float64"
      ]
     },
     "execution_count": 153,
     "metadata": {},
     "output_type": "execute_result"
    }
   ],
   "source": [
    "# Wie viele Fahrzeuge fahren durchschnittlich am Wochenende durch? \n",
    "df_temp = df_auto.between_time('22:00', '06:00')\n",
    "df_temp = df_temp[(df_temp['wochentag'] == 'Samstag') | (df_temp['wochentag'] == 'Sonntag')]\n",
    "df_temp = df_temp.resample('D')[['anz_autos']].sum()\n",
    "df_temp['anz_autos'] = df_temp['anz_autos'].replace(0, np.NaN)\n",
    "df_temp.mean()"
   ]
  },
  {
   "cell_type": "code",
   "execution_count": 157,
   "metadata": {
    "scrolled": true
   },
   "outputs": [
    {
     "data": {
      "text/plain": [
       "<matplotlib.axes._subplots.AxesSubplot at 0x7fe241dc7af0>"
      ]
     },
     "execution_count": 157,
     "metadata": {},
     "output_type": "execute_result"
    },
    {
     "data": {
      "image/png": "[encoded data removed]",
      "text/plain": [
       "<Figure size 1080x360 with 1 Axes>"
      ]
     },
     "metadata": {
      "needs_background": "light"
     },
     "output_type": "display_data"
    }
   ],
   "source": [
    "# Wie sieht ein durchschnittlicher Nachtverlauf bei der Anzahl Fahrzeugen aus?\n",
    "df_temp = df_auto.between_time('22:00', '06:00')\n",
    "df_temp.groupby(by=df_temp.index.hour).mean().sort_index(ascending=True).plot(kind='bar', figsize=[15,5])"
   ]
  },
  {
   "cell_type": "code",
   "execution_count": 158,
   "metadata": {},
   "outputs": [
    {
     "data": {
      "image/png": "[encoded data removed]",
      "text/plain": [
       "<Figure size 1080x360 with 1 Axes>"
      ]
     },
     "metadata": {
      "needs_background": "light"
     },
     "output_type": "display_data"
    }
   ],
   "source": [
    "# Wie sieht ein durchschnittlicher Tagesverlauf bei der Anzahl Fahrzeugen an Wochentagen und Wochenenden aus?\n",
    "fig, ax = plt.subplots(figsize=[15,5])\n",
    "\n",
    "# Verlauf unter der Woche.\n",
    "df_temp = df_auto[(df_auto['wochentag'] != 'Samstag') & (df_auto['wochentag'] != 'Sonntag')]\n",
    "df_temp.groupby(by=df_temp.index.hour).mean().sort_index(ascending=True).plot(color='blue', label='Arbeitstage', ax=ax)\n",
    "\n",
    "# Verlauf am Wochenende. \n",
    "df_temp = df_auto[(df_auto['wochentag'] == 'Samstag') | (df_auto['wochentag'] == 'Sonntag')]\n",
    "df_temp.groupby(by=df_temp.index.hour).mean().sort_index(ascending=True).plot(color='green', label='Wochenende', ax=ax)\n",
    "ax.legend(['Arbeitstage', 'Wochenende'])\n",
    "plt.show()"
   ]
  },
  {
   "cell_type": "code",
   "execution_count": null,
   "metadata": {},
   "outputs": [],
   "source": []
  }
 ],
 "metadata": {
  "kernelspec": {
   "display_name": "Python 3",
   "language": "python",
   "name": "python3"
  },
  "language_info": {
   "codemirror_mode": {
    "name": "ipython",
    "version": 3
   },
   "file_extension": ".py",
   "mimetype": "text/x-python",
   "name": "python",
   "nbconvert_exporter": "python",
   "pygments_lexer": "ipython3",
   "version": "3.8.5"
  },
  "toc": {
   "base_numbering": 1,
   "nav_menu": {},
   "number_sections": true,
   "sideBar": true,
   "skip_h1_title": true,
   "title_cell": "Inhaltsverzeichnis",
   "title_sidebar": "Contents",
   "toc_cell": true,
   "toc_position": {
    "height": "calc(100% - 180px)",
    "left": "10px",
    "top": "150px",
    "width": "369px"
   },
   "toc_section_display": true,
   "toc_window_display": false
  }
 },
 "nbformat": 4,
 "nbformat_minor": 4
}
